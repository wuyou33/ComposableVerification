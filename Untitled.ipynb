{
 "cells": [
  {
   "cell_type": "code",
   "execution_count": 28,
   "metadata": {},
   "outputs": [
    {
     "name": "stdout",
     "output_type": "stream",
     "text": [
      "49.99431874316825"
     ]
    },
    {
     "name": "stderr",
     "output_type": "stream",
     "text": [
      "WARNING: Method definition psd_generator(Any) in module Main at In[27]:2 overwritten at In[28]:2.\n"
     ]
    },
    {
     "data": {
      "text/plain": [
       "55.82913630982459 + 0.0im"
      ]
     },
     "execution_count": 28,
     "metadata": {},
     "output_type": "execute_result"
    }
   ],
   "source": [
    "T = function psd_generator(n)\n",
    "    B=randn(n,n)\n",
    "    T=B*B'\n",
    "end\n",
    "\n",
    "A = randn(2,2)\n",
    "A12=randn(2,2)\n",
    "P = psd_generator(2)\n",
    "q=psd_generator(2)\n",
    "\n",
    "\n",
    "# W=randn(1)^2\n",
    "# Z=randn(1)^2\n",
    "\n",
    "PAAP=P*A*A'*P\n",
    "qaaq=A12'*q*q*A12\n",
    "\n",
    "show(trace(P*A*q*A12))\n",
    "\n",
    "sqrtm_p=sqrtm(PAAP)\n",
    "sqrtm_q=sqrtm(qaaq)\n",
    "trace(sqrtm_p*sqrtm_q)\n",
    "\n",
    "# show(trace(sqrtm_p*sqrtm_q))\n",
    "\n"
   ]
  }
 ],
 "metadata": {
  "kernelspec": {
   "display_name": "Julia 0.5.0",
   "language": "julia",
   "name": "julia-0.5"
  },
  "language_info": {
   "file_extension": ".jl",
   "mimetype": "application/julia",
   "name": "julia",
   "version": "0.5.0"
  }
 },
 "nbformat": 4,
 "nbformat_minor": 2
}
