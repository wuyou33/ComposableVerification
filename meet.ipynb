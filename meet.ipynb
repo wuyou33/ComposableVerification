{
 "cells": [
  {
   "cell_type": "markdown",
   "metadata": {
    "deletable": true,
    "editable": true
   },
   "source": [
    "Comparison btw two methods\n",
    "Nonlinear formualtion\n",
    "Simple nonlinear example"
   ]
  },
  {
   "cell_type": "code",
   "execution_count": null,
   "metadata": {
    "collapsed": false,
    "deletable": true,
    "editable": true
   },
   "outputs": [],
   "source": [
    "import numpy as np\n",
    "import scipy.linalg as linalg\n",
    "import timeit\n",
    "# preprosseseing to generate candidate A's\n",
    "\n",
    "def generate_A(size, number_of_instance):\n",
    "    n = size\n",
    "    Q = np.eye(n)\n",
    "    not_stable = True\n",
    "    num_A=0\n",
    "    brutal_time=0\n",
    "    partitioned_time=0\n",
    "    while (not_stable and num_A<=number_of_instance): \n",
    "        A=np.random.randn(n,n)\n",
    "        eig_A = np.linalg.eig(A)\n",
    "        if np.real(eig_A<0):\n",
    "            not_stable = False\n",
    "            num_A+=1\n",
    "            brutal_time+=brutal(A,Q)\n",
    "            \n",
    "    print brutal_time\n",
    "\n",
    "\n",
    "def brutal(A,Q):\n",
    "    # for a particular A, directly solve \n",
    "    time_spent = timeit(scipy.linalg.solve_lyapunov(A,Q))\n",
    "    print time_spent\n",
    "    return time_spent\n",
    "\n",
    "generate_A(60, 100)\n",
    "\n",
    "# def partitioned():\n",
    "# for the partitioned version\n",
    "    \n"
   ]
  },
  {
   "cell_type": "code",
   "execution_count": null,
   "metadata": {
    "collapsed": false,
    "deletable": true,
    "editable": true
   },
   "outputs": [],
   "source": [
    "\n",
    "\n"
   ]
  }
 ],
 "metadata": {
  "kernelspec": {
   "display_name": "Python 2",
   "language": "python",
   "name": "python2"
  },
  "language_info": {
   "codemirror_mode": {
    "name": "ipython",
    "version": 2
   },
   "file_extension": ".py",
   "mimetype": "text/x-python",
   "name": "python",
   "nbconvert_exporter": "python",
   "pygments_lexer": "ipython2",
   "version": "2.7.13"
  }
 },
 "nbformat": 4,
 "nbformat_minor": 2
}
