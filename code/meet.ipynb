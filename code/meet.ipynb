{
 "cells": [
  {
   "cell_type": "markdown",
   "metadata": {
    "deletable": true,
    "editable": true
   },
   "source": [
    "Comparison btw two methods\n",
    "Nonlinear formualtion\n",
    "Simple nonlinear example"
   ]
  },
  {
   "cell_type": "code",
   "execution_count": 2,
   "metadata": {
    "collapsed": false
   },
   "outputs": [
    {
     "ename": "TypeError",
     "evalue": "object of type 'int' has no len()",
     "output_type": "error",
     "traceback": [
      "\u001b[0;31m---------------------------------------\u001b[0m",
      "\u001b[0;31mTypeError\u001b[0mTraceback (most recent call last)",
      "\u001b[0;32m<ipython-input-2-1715f232b535>\u001b[0m in \u001b[0;36m<module>\u001b[0;34m()\u001b[0m\n\u001b[1;32m     52\u001b[0m     \u001b[0;31m# X = np.matrix(scipy.linalg.solve_continuous_are(A, B, Q, R))\u001b[0m\u001b[0;34m\u001b[0m\u001b[0;34m\u001b[0m\u001b[0m\n\u001b[1;32m     53\u001b[0m \u001b[0;34m\u001b[0m\u001b[0m\n\u001b[0;32m---> 54\u001b[0;31m \u001b[0mpartitioned\u001b[0m\u001b[0;34m(\u001b[0m\u001b[0mnp\u001b[0m\u001b[0;34m.\u001b[0m\u001b[0meye\u001b[0m\u001b[0;34m(\u001b[0m\u001b[0;36m60\u001b[0m\u001b[0;34m)\u001b[0m\u001b[0;34m,\u001b[0m\u001b[0;36m60\u001b[0m\u001b[0;34m,\u001b[0m\u001b[0;36m30\u001b[0m\u001b[0;34m)\u001b[0m\u001b[0;34m\u001b[0m\u001b[0m\n\u001b[0m\u001b[1;32m     55\u001b[0m \u001b[0;31m# generate_A(10, 10)\u001b[0m\u001b[0;34m\u001b[0m\u001b[0;34m\u001b[0m\u001b[0m\n",
      "\u001b[0;32m<ipython-input-2-1715f232b535>\u001b[0m in \u001b[0;36mpartitioned\u001b[0;34m(A, n, num_parts)\u001b[0m\n\u001b[1;32m     42\u001b[0m     \u001b[0mA_horizontal\u001b[0m\u001b[0;34m=\u001b[0m\u001b[0;34m[\u001b[0m\u001b[0;34m]\u001b[0m\u001b[0;34m\u001b[0m\u001b[0m\n\u001b[1;32m     43\u001b[0m     \u001b[0mA_vertical\u001b[0m\u001b[0;34m=\u001b[0m\u001b[0;34m[\u001b[0m\u001b[0;34m]\u001b[0m\u001b[0;34m\u001b[0m\u001b[0m\n\u001b[0;32m---> 44\u001b[0;31m     \u001b[0;32mfor\u001b[0m \u001b[0mi\u001b[0m \u001b[0;32min\u001b[0m \u001b[0mlen\u001b[0m\u001b[0;34m(\u001b[0m\u001b[0mnum_parts\u001b[0m\u001b[0;34m)\u001b[0m\u001b[0;34m:\u001b[0m\u001b[0;34m\u001b[0m\u001b[0m\n\u001b[0m\u001b[1;32m     45\u001b[0m         \u001b[0;32mfor\u001b[0m \u001b[0mj\u001b[0m \u001b[0;32min\u001b[0m \u001b[0menumerate\u001b[0m\u001b[0;34m(\u001b[0m\u001b[0mnum_parts\u001b[0m\u001b[0;34m)\u001b[0m\u001b[0;34m:\u001b[0m\u001b[0;34m\u001b[0m\u001b[0m\n\u001b[1;32m     46\u001b[0m             \u001b[0mA_horizontal\u001b[0m\u001b[0;34m.\u001b[0m\u001b[0mappend\u001b[0m\u001b[0;34m(\u001b[0m\u001b[0mA\u001b[0m\u001b[0;34m[\u001b[0m\u001b[0mi\u001b[0m\u001b[0;34m*\u001b[0m\u001b[0msub_size\u001b[0m\u001b[0;34m:\u001b[0m\u001b[0;34m(\u001b[0m\u001b[0mi\u001b[0m\u001b[0;34m+\u001b[0m\u001b[0;36m1\u001b[0m\u001b[0;34m)\u001b[0m\u001b[0;34m*\u001b[0m\u001b[0msub_size\u001b[0m\u001b[0;34m,\u001b[0m\u001b[0mj\u001b[0m\u001b[0;34m*\u001b[0m\u001b[0msub_size\u001b[0m\u001b[0;34m:\u001b[0m\u001b[0;34m(\u001b[0m\u001b[0mj\u001b[0m\u001b[0;34m+\u001b[0m\u001b[0;36m1\u001b[0m\u001b[0;34m)\u001b[0m\u001b[0;34m*\u001b[0m\u001b[0msub_size\u001b[0m\u001b[0;34m]\u001b[0m\u001b[0;34m)\u001b[0m\u001b[0;34m\u001b[0m\u001b[0m\n",
      "\u001b[0;31mTypeError\u001b[0m: object of type 'int' has no len()"
     ]
    }
   ],
   "source": [
    "# %load LTI_comparison.py\n",
    "import numpy as np\n",
    "import scipy.linalg as linalg\n",
    "# import timeit\n",
    "from timeit import Timer\n",
    "# preprosseseing to generate candidate A's\n",
    "# t = timeit.Timer(\"print 'main statement'\", \"print 'setup'\")\n",
    "def generate_A(n, number_of_instance):\n",
    "    Q = np.eye(n)\n",
    "    not_stable = True\n",
    "    num_A=0\n",
    "    brutal_time=0\n",
    "    partitioned_time=0\n",
    "    while (not_stable or num_A<=number_of_instance-1):\n",
    "        not_stable = True\n",
    "        A=np.random.randn(n,n)\n",
    "        # only interested in the eigenvalues but not the eigenvector\n",
    "        eig_A = np.linalg.eig(A)[0]\n",
    "        eig_A.reshape(n,1)\n",
    "        # print np.real(eig_A)\n",
    "        # print np.all(np.real(eig_A)<0)\n",
    "        if np.all(np.real(eig_A)<0):\n",
    "            not_stable = False\n",
    "            num_A+=1\n",
    "            brutal_time+=brutal(A,Q)\n",
    "            # partitioned_time+=partitioned(A,num_parts)\n",
    "    print num_A\n",
    "    print brutal_time\n",
    "    return brutal_time, partitioned_time\n",
    "\n",
    "\n",
    "def brutal(A,Q):\n",
    "    # for a particular A, directly solve \n",
    "   t = Timer(lambda: linalg.solve_lyapunov(A,Q))\n",
    "   single_run_time = t.timeit(number=1)\n",
    "   print single_run_time\n",
    "   return single_run_time\n",
    "\n",
    "def partitioned(A, n, num_parts):\n",
    "    assert n%num_parts==0\n",
    "    sub_size = n/num_parts\n",
    "    A_horizontal=[]\n",
    "    A_vertical=[]\n",
    "    for i in len(num_parts):\n",
    "        for j in enumerate(num_parts):\n",
    "            A_horizontal.append(A[i*sub_size:(i+1)*sub_size,j*sub_size:(j+1)*sub_size])\n",
    "        A_vertical.append(A_horizontal)\n",
    "    print A_horizontal\n",
    "    print A_vertical\n",
    "\n",
    "    return A_horizontal, A_vertical\n",
    "    # X = np.matrix(scipy.linalg.solve_continuous_are(A, B, Q, R))\n",
    "\n",
    "partitioned(np.eye(60),60,30)\n",
    "# generate_A(10, 10)"
   ]
  },
  {
   "cell_type": "markdown",
   "metadata": {
    "collapsed": false,
    "deletable": true,
    "editable": true
   },
   "source": [
    "the comparison between hard-coded full-parameterziation vs block-diagonal optimization, and then the faliure rate of using just constant scaling, and then alternating scaling and then convex opti"
   ]
  },
  {
   "cell_type": "code",
   "execution_count": null,
   "metadata": {
    "collapsed": true,
    "deletable": true,
    "editable": true
   },
   "outputs": [],
   "source": [
    "write out the sos version"
   ]
  }
 ],
 "metadata": {
  "kernelspec": {
   "display_name": "Python 2",
   "language": "python",
   "name": "python2"
  },
  "language_info": {
   "codemirror_mode": {
    "name": "ipython",
    "version": 2
   },
   "file_extension": ".py",
   "mimetype": "text/x-python",
   "name": "python",
   "nbconvert_exporter": "python",
   "pygments_lexer": "ipython2",
   "version": "2.7.13"
  }
 },
 "nbformat": 4,
 "nbformat_minor": 2
}
